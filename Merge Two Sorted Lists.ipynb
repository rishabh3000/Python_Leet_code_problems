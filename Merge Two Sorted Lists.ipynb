{
 "cells": [
  {
   "cell_type": "code",
   "execution_count": 4,
   "metadata": {},
   "outputs": [
    {
     "name": "stdout",
     "output_type": "stream",
     "text": [
      "12 34 56 78 \n",
      "11 23 45 65\n",
      "11--->12--->23--->34--->45--->56--->65--->78--->NULL\n"
     ]
    }
   ],
   "source": [
    "class Node:\n",
    "    def __init__(self,val):\n",
    "        self.data=val\n",
    "        self.next= None\n",
    "\n",
    "def takeInput():\n",
    "    inputList=[int(ele) for ele in input().split()]\n",
    "    head=None\n",
    "    tail=None\n",
    "    for Data in inputList:\n",
    "        if(Data==-1):\n",
    "            break\n",
    "            \n",
    "        newNode= Node(Data)\n",
    "        if (head is  None):\n",
    "            head=newNode\n",
    "            tail=newNode\n",
    "        else:\n",
    "            tail.next=newNode\n",
    "            tail=newNode\n",
    "            \n",
    "    return head\n",
    "\n",
    "head1=takeInput()\n",
    "head2=takeInput()\n",
    "\n",
    "\n",
    "def mergeLL(head1, head2):\n",
    "    if(head1 == None):\n",
    "        return head2\n",
    "\n",
    "    if(head2 == None):\n",
    "        return head1\n",
    "\n",
    "    head3 = Node(1)\n",
    "    if(head1.data < head2.data):\n",
    "        head3 = head1\n",
    "        head1.next = mergeLL(head1.next, head2)\n",
    "\n",
    "    else:\n",
    "        head3 = head2\n",
    "        head2.next = mergeLL(head1, head2.next)\n",
    "\n",
    "    return head3\n",
    "\n",
    "head3=mergeLL(head1,head2)\n",
    "printLL(head3)"
   ]
  },
  {
   "cell_type": "code",
   "execution_count": 3,
   "metadata": {},
   "outputs": [
    {
     "name": "stdout",
     "output_type": "stream",
     "text": [
      "12 34 566 87 9\n",
      "12--->34--->566--->87--->9--->NULL\n"
     ]
    }
   ],
   "source": [
    "class Node:\n",
    "    def __init__(self, val):\n",
    "        self.data = val\n",
    "        self.next = None\n",
    "\n",
    "\n",
    "\n",
    "\n",
    "#head-->1--->2--->3---->4--->5--->tail\n",
    "##\n",
    "##node1 = Node(1)\n",
    "##node2 = Node(200)\n",
    "##node3 = Node(300)\n",
    "##node4 = Node(400)\n",
    "##node5 = Node(500)\n",
    "##\n",
    "##node1.next = node2\n",
    "##node2.next = node3\n",
    "##node3.next = node4\n",
    "##node4.next = node5\n",
    "\n",
    "def takeInput():\n",
    "    inputList = [int(ele) for ele in input().split()]\n",
    "    head = None\n",
    "    tail = None\n",
    "    for currentData in inputList:\n",
    "        if(currentData == -1):\n",
    "            break\n",
    "        newNode = Node(currentData)\n",
    "        if(head is None):\n",
    "            head = newNode\n",
    "            tail = newNode\n",
    "        else:\n",
    "            tail.next = newNode\n",
    "            tail = newNode\n",
    "    return head\n",
    "\n",
    "\n",
    "\n",
    "rishabh = takeInput()\n",
    "\n",
    "def printLL(head):\n",
    "    while(head is not None):\n",
    "        print(str(head.data) + \"--->\", end = \"\")\n",
    "        head = head.next\n",
    "    print(\"NULL\")\n",
    "\n",
    "printLL(rishabh)"
   ]
  },
  {
   "cell_type": "code",
   "execution_count": null,
   "metadata": {},
   "outputs": [],
   "source": []
  }
 ],
 "metadata": {
  "kernelspec": {
   "display_name": "Python 3",
   "language": "python",
   "name": "python3"
  },
  "language_info": {
   "codemirror_mode": {
    "name": "ipython",
    "version": 3
   },
   "file_extension": ".py",
   "mimetype": "text/x-python",
   "name": "python",
   "nbconvert_exporter": "python",
   "pygments_lexer": "ipython3",
   "version": "3.8.3"
  }
 },
 "nbformat": 4,
 "nbformat_minor": 4
}
